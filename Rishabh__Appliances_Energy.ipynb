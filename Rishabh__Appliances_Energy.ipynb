{
  "nbformat": 4,
  "nbformat_minor": 0,
  "metadata": {
    "colab": {
      "name": "Purnima__Appliances_Energy.ipynb",
      "provenance": [],
      "authorship_tag": "ABX9TyOVBfHgFCFe+eya5l3gHxWi",
      "include_colab_link": true
    },
    "kernelspec": {
      "name": "python3",
      "display_name": "Python 3"
    },
    "language_info": {
      "name": "python"
    }
  },
  "cells": [
    {
      "cell_type": "markdown",
      "metadata": {
        "id": "view-in-github",
        "colab_type": "text"
      },
      "source": [
        "<a href=\"https://colab.research.google.com/github/04-purnima/Appliances-Energy-Prediction/blob/main/Purnima__Appliances_Energy.ipynb\" target=\"_parent\"><img src=\"https://colab.research.google.com/assets/colab-badge.svg\" alt=\"Open In Colab\"/></a>"
      ]
    },
    {
      "cell_type": "markdown",
      "metadata": {
        "id": "msrFT9W5qCYx"
      },
      "source": [
        "#date time year-month-day hour:minute:second\n",
        "#Appliances, energy use in Wh (Dependent variable)\n",
        "#lights, energy use of light fixtures in the house in Wh (Drop this column)\n",
        "#T1, Temperature in kitchen area, in Celsius\n",
        "#RH1, Humidity in kitchen area, in %\n",
        "#T2, Temperature in living room area, in Celsius\n",
        "#RH2,Humidity in living room area, in %\n",
        "#T3, Temperature in laundry room area\n",
        "#RH3, Humidity in laundry room area, in %\n",
        "#T4, Temperature in office room, in Celsius\n",
        "#RH4,Humidity in office room, in %\n",
        "#T5, Temperature in bathroom, in Celsius\n",
        "#RH5, Humidity in bathroom, in %\n",
        "#T6, Temperature outside the building (north side), in Celsius\n",
        "#RH6, Humidity outside the building (north side), in %\n",
        "#T7, Temperature in ironing room , in Celsius\n",
        "#RH7, Humidity in ironing room, in %\n",
        "#T8, Temperature in teenager room 2, in Celsius\n",
        "#RH8,Humidity in teenager room 2, in %\n",
        "#T9, Temperature in parents room, in Celsius\n",
        "#RH9, Humidity in parents room, in %\n",
        "#To, Temperature outside (from Chievres weather station), in Celsius\n",
        "#Pressure (from Chievres weather station), in mm Hg RHout,\n",
        "#Humidity outside (from Chievres weather station), in %\n",
        "#Wind speed (from Chievres weather station), in m/s\n",
        "#Visibility (from Chievres weather station), in km\n",
        "#Tdewpoint (from Chievres weather station), Â°C\n",
        "#rv1, Random variable 1, nondimensional\n",
        "#rv2, Random variable 2, nondimensional"
      ]
    },
    {
      "cell_type": "code",
      "metadata": {
        "id": "7oJeJzyCqefG",
        "colab": {
          "base_uri": "https://localhost:8080/"
        },
        "outputId": "931a52de-fcb0-4b73-c730-40d714aadc6e"
      },
      "source": [
        "#IMPORTING LIBRARIES\n",
        "import pandas as pd\n",
        "import numpy as np\n",
        "import seaborn as sns\n",
        "import matplotlib.pyplot as plt\n",
        "\n",
        "import math\n",
        "import time\n",
        "from math import sqrt\n",
        "\n",
        "from datetime import datetime\n",
        "import dateutil\n",
        "from sklearn.preprocessing import MinMaxScaler\n",
        "from sklearn.linear_model import Ridge, Lasso\n",
        "from sklearn.ensemble import RandomForestRegressor, GradientBoostingRegressor, ExtraTreesRegressor\n",
        "import xgboost as xgb\n",
        "\n",
        "!pip3 install catboost\n",
        "from catboost import CatBoostRegressor as cbr\n",
        "from sklearn import neighbors\n",
        "from sklearn.svm import SVR\n",
        "\n",
        "from sklearn.model_selection import train_test_split\n",
        "from sklearn.model_selection import GridSearchCV, KFold\n",
        "from sklearn.model_selection import RandomizedSearchCV\n",
        "from sklearn import preprocessing, model_selection, metrics\n",
        "from sklearn.metrics import mean_squared_error, r2_score"
      ],
      "execution_count": 70,
      "outputs": [
        {
          "output_type": "stream",
          "name": "stdout",
          "text": [
            "Requirement already satisfied: catboost in /usr/local/lib/python3.7/dist-packages (1.0.3)\n",
            "Requirement already satisfied: graphviz in /usr/local/lib/python3.7/dist-packages (from catboost) (0.10.1)\n",
            "Requirement already satisfied: six in /usr/local/lib/python3.7/dist-packages (from catboost) (1.15.0)\n",
            "Requirement already satisfied: scipy in /usr/local/lib/python3.7/dist-packages (from catboost) (1.4.1)\n",
            "Requirement already satisfied: numpy>=1.16.0 in /usr/local/lib/python3.7/dist-packages (from catboost) (1.19.5)\n",
            "Requirement already satisfied: plotly in /usr/local/lib/python3.7/dist-packages (from catboost) (4.4.1)\n",
            "Requirement already satisfied: matplotlib in /usr/local/lib/python3.7/dist-packages (from catboost) (3.2.2)\n",
            "Requirement already satisfied: pandas>=0.24.0 in /usr/local/lib/python3.7/dist-packages (from catboost) (1.1.5)\n",
            "Requirement already satisfied: python-dateutil>=2.7.3 in /usr/local/lib/python3.7/dist-packages (from pandas>=0.24.0->catboost) (2.8.2)\n",
            "Requirement already satisfied: pytz>=2017.2 in /usr/local/lib/python3.7/dist-packages (from pandas>=0.24.0->catboost) (2018.9)\n",
            "Requirement already satisfied: kiwisolver>=1.0.1 in /usr/local/lib/python3.7/dist-packages (from matplotlib->catboost) (1.3.2)\n",
            "Requirement already satisfied: cycler>=0.10 in /usr/local/lib/python3.7/dist-packages (from matplotlib->catboost) (0.11.0)\n",
            "Requirement already satisfied: pyparsing!=2.0.4,!=2.1.2,!=2.1.6,>=2.0.1 in /usr/local/lib/python3.7/dist-packages (from matplotlib->catboost) (2.4.7)\n",
            "Requirement already satisfied: retrying>=1.3.3 in /usr/local/lib/python3.7/dist-packages (from plotly->catboost) (1.3.3)\n"
          ]
        }
      ]
    },
    {
      "cell_type": "code",
      "metadata": {
        "colab": {
          "base_uri": "https://localhost:8080/"
        },
        "id": "s7TeUCCh-rAH",
        "outputId": "1402f214-4179-43e5-e664-4ae9652b9656"
      },
      "source": [
        "from google.colab import drive\n",
        "drive.mount('/content/drive')\n"
      ],
      "execution_count": 71,
      "outputs": [
        {
          "output_type": "stream",
          "name": "stdout",
          "text": [
            "Drive already mounted at /content/drive; to attempt to forcibly remount, call drive.mount(\"/content/drive\", force_remount=True).\n"
          ]
        }
      ]
    },
    {
      "cell_type": "code",
      "metadata": {
        "id": "I9masMHS_B1-"
      },
      "source": [
        "file_path = ('/content/drive/MyDrive/Almabetter Notebooks/Capstone(Regression)/Data/data_application_energy.csv')\n",
        "ae_df = pd.read_csv(file_path)"
      ],
      "execution_count": 72,
      "outputs": []
    },
    {
      "cell_type": "markdown",
      "metadata": {
        "id": "3N64PgMM_-aN"
      },
      "source": [
        "#Data Exploration"
      ]
    },
    {
      "cell_type": "code",
      "metadata": {
        "colab": {
          "base_uri": "https://localhost:8080/",
          "height": 391
        },
        "id": "uP8mtCxh_82P",
        "outputId": "887736f9-4a33-4305-e52a-6d8f527ff146"
      },
      "source": [
        "ae_df.head()"
      ],
      "execution_count": 73,
      "outputs": [
        {
          "output_type": "execute_result",
          "data": {
            "text/html": [
              "<div>\n",
              "<style scoped>\n",
              "    .dataframe tbody tr th:only-of-type {\n",
              "        vertical-align: middle;\n",
              "    }\n",
              "\n",
              "    .dataframe tbody tr th {\n",
              "        vertical-align: top;\n",
              "    }\n",
              "\n",
              "    .dataframe thead th {\n",
              "        text-align: right;\n",
              "    }\n",
              "</style>\n",
              "<table border=\"1\" class=\"dataframe\">\n",
              "  <thead>\n",
              "    <tr style=\"text-align: right;\">\n",
              "      <th></th>\n",
              "      <th>date</th>\n",
              "      <th>Appliances</th>\n",
              "      <th>lights</th>\n",
              "      <th>T1</th>\n",
              "      <th>RH_1</th>\n",
              "      <th>T2</th>\n",
              "      <th>RH_2</th>\n",
              "      <th>T3</th>\n",
              "      <th>RH_3</th>\n",
              "      <th>T4</th>\n",
              "      <th>RH_4</th>\n",
              "      <th>T5</th>\n",
              "      <th>RH_5</th>\n",
              "      <th>T6</th>\n",
              "      <th>RH_6</th>\n",
              "      <th>T7</th>\n",
              "      <th>RH_7</th>\n",
              "      <th>T8</th>\n",
              "      <th>RH_8</th>\n",
              "      <th>T9</th>\n",
              "      <th>RH_9</th>\n",
              "      <th>T_out</th>\n",
              "      <th>Press_mm_hg</th>\n",
              "      <th>RH_out</th>\n",
              "      <th>Windspeed</th>\n",
              "      <th>Visibility</th>\n",
              "      <th>Tdewpoint</th>\n",
              "      <th>rv1</th>\n",
              "      <th>rv2</th>\n",
              "    </tr>\n",
              "  </thead>\n",
              "  <tbody>\n",
              "    <tr>\n",
              "      <th>0</th>\n",
              "      <td>2016-01-11 17:00:00</td>\n",
              "      <td>60</td>\n",
              "      <td>30</td>\n",
              "      <td>19.89</td>\n",
              "      <td>47.596667</td>\n",
              "      <td>19.2</td>\n",
              "      <td>44.790000</td>\n",
              "      <td>19.79</td>\n",
              "      <td>44.730000</td>\n",
              "      <td>19.000000</td>\n",
              "      <td>45.566667</td>\n",
              "      <td>17.166667</td>\n",
              "      <td>55.20</td>\n",
              "      <td>7.026667</td>\n",
              "      <td>84.256667</td>\n",
              "      <td>17.200000</td>\n",
              "      <td>41.626667</td>\n",
              "      <td>18.2</td>\n",
              "      <td>48.900000</td>\n",
              "      <td>17.033333</td>\n",
              "      <td>45.53</td>\n",
              "      <td>6.600000</td>\n",
              "      <td>733.5</td>\n",
              "      <td>92.0</td>\n",
              "      <td>7.000000</td>\n",
              "      <td>63.000000</td>\n",
              "      <td>5.3</td>\n",
              "      <td>13.275433</td>\n",
              "      <td>13.275433</td>\n",
              "    </tr>\n",
              "    <tr>\n",
              "      <th>1</th>\n",
              "      <td>2016-01-11 17:10:00</td>\n",
              "      <td>60</td>\n",
              "      <td>30</td>\n",
              "      <td>19.89</td>\n",
              "      <td>46.693333</td>\n",
              "      <td>19.2</td>\n",
              "      <td>44.722500</td>\n",
              "      <td>19.79</td>\n",
              "      <td>44.790000</td>\n",
              "      <td>19.000000</td>\n",
              "      <td>45.992500</td>\n",
              "      <td>17.166667</td>\n",
              "      <td>55.20</td>\n",
              "      <td>6.833333</td>\n",
              "      <td>84.063333</td>\n",
              "      <td>17.200000</td>\n",
              "      <td>41.560000</td>\n",
              "      <td>18.2</td>\n",
              "      <td>48.863333</td>\n",
              "      <td>17.066667</td>\n",
              "      <td>45.56</td>\n",
              "      <td>6.483333</td>\n",
              "      <td>733.6</td>\n",
              "      <td>92.0</td>\n",
              "      <td>6.666667</td>\n",
              "      <td>59.166667</td>\n",
              "      <td>5.2</td>\n",
              "      <td>18.606195</td>\n",
              "      <td>18.606195</td>\n",
              "    </tr>\n",
              "    <tr>\n",
              "      <th>2</th>\n",
              "      <td>2016-01-11 17:20:00</td>\n",
              "      <td>50</td>\n",
              "      <td>30</td>\n",
              "      <td>19.89</td>\n",
              "      <td>46.300000</td>\n",
              "      <td>19.2</td>\n",
              "      <td>44.626667</td>\n",
              "      <td>19.79</td>\n",
              "      <td>44.933333</td>\n",
              "      <td>18.926667</td>\n",
              "      <td>45.890000</td>\n",
              "      <td>17.166667</td>\n",
              "      <td>55.09</td>\n",
              "      <td>6.560000</td>\n",
              "      <td>83.156667</td>\n",
              "      <td>17.200000</td>\n",
              "      <td>41.433333</td>\n",
              "      <td>18.2</td>\n",
              "      <td>48.730000</td>\n",
              "      <td>17.000000</td>\n",
              "      <td>45.50</td>\n",
              "      <td>6.366667</td>\n",
              "      <td>733.7</td>\n",
              "      <td>92.0</td>\n",
              "      <td>6.333333</td>\n",
              "      <td>55.333333</td>\n",
              "      <td>5.1</td>\n",
              "      <td>28.642668</td>\n",
              "      <td>28.642668</td>\n",
              "    </tr>\n",
              "    <tr>\n",
              "      <th>3</th>\n",
              "      <td>2016-01-11 17:30:00</td>\n",
              "      <td>50</td>\n",
              "      <td>40</td>\n",
              "      <td>19.89</td>\n",
              "      <td>46.066667</td>\n",
              "      <td>19.2</td>\n",
              "      <td>44.590000</td>\n",
              "      <td>19.79</td>\n",
              "      <td>45.000000</td>\n",
              "      <td>18.890000</td>\n",
              "      <td>45.723333</td>\n",
              "      <td>17.166667</td>\n",
              "      <td>55.09</td>\n",
              "      <td>6.433333</td>\n",
              "      <td>83.423333</td>\n",
              "      <td>17.133333</td>\n",
              "      <td>41.290000</td>\n",
              "      <td>18.1</td>\n",
              "      <td>48.590000</td>\n",
              "      <td>17.000000</td>\n",
              "      <td>45.40</td>\n",
              "      <td>6.250000</td>\n",
              "      <td>733.8</td>\n",
              "      <td>92.0</td>\n",
              "      <td>6.000000</td>\n",
              "      <td>51.500000</td>\n",
              "      <td>5.0</td>\n",
              "      <td>45.410389</td>\n",
              "      <td>45.410389</td>\n",
              "    </tr>\n",
              "    <tr>\n",
              "      <th>4</th>\n",
              "      <td>2016-01-11 17:40:00</td>\n",
              "      <td>60</td>\n",
              "      <td>40</td>\n",
              "      <td>19.89</td>\n",
              "      <td>46.333333</td>\n",
              "      <td>19.2</td>\n",
              "      <td>44.530000</td>\n",
              "      <td>19.79</td>\n",
              "      <td>45.000000</td>\n",
              "      <td>18.890000</td>\n",
              "      <td>45.530000</td>\n",
              "      <td>17.200000</td>\n",
              "      <td>55.09</td>\n",
              "      <td>6.366667</td>\n",
              "      <td>84.893333</td>\n",
              "      <td>17.200000</td>\n",
              "      <td>41.230000</td>\n",
              "      <td>18.1</td>\n",
              "      <td>48.590000</td>\n",
              "      <td>17.000000</td>\n",
              "      <td>45.40</td>\n",
              "      <td>6.133333</td>\n",
              "      <td>733.9</td>\n",
              "      <td>92.0</td>\n",
              "      <td>5.666667</td>\n",
              "      <td>47.666667</td>\n",
              "      <td>4.9</td>\n",
              "      <td>10.084097</td>\n",
              "      <td>10.084097</td>\n",
              "    </tr>\n",
              "  </tbody>\n",
              "</table>\n",
              "</div>"
            ],
            "text/plain": [
              "                  date  Appliances  lights  ...  Tdewpoint        rv1        rv2\n",
              "0  2016-01-11 17:00:00          60      30  ...        5.3  13.275433  13.275433\n",
              "1  2016-01-11 17:10:00          60      30  ...        5.2  18.606195  18.606195\n",
              "2  2016-01-11 17:20:00          50      30  ...        5.1  28.642668  28.642668\n",
              "3  2016-01-11 17:30:00          50      40  ...        5.0  45.410389  45.410389\n",
              "4  2016-01-11 17:40:00          60      40  ...        4.9  10.084097  10.084097\n",
              "\n",
              "[5 rows x 29 columns]"
            ]
          },
          "metadata": {},
          "execution_count": 73
        }
      ]
    },
    {
      "cell_type": "code",
      "metadata": {
        "colab": {
          "base_uri": "https://localhost:8080/"
        },
        "id": "Oq5wOYxpANiz",
        "outputId": "ed29d55e-11b6-41d8-f355-8e0d52eb1404"
      },
      "source": [
        "ae_df.shape"
      ],
      "execution_count": 74,
      "outputs": [
        {
          "output_type": "execute_result",
          "data": {
            "text/plain": [
              "(19735, 29)"
            ]
          },
          "metadata": {},
          "execution_count": 74
        }
      ]
    },
    {
      "cell_type": "code",
      "metadata": {
        "colab": {
          "base_uri": "https://localhost:8080/"
        },
        "id": "LbinwOnvAQg8",
        "outputId": "5d0ea050-df0d-4e9f-db7c-a8610d6b86af"
      },
      "source": [
        "ae_df.info()"
      ],
      "execution_count": 75,
      "outputs": [
        {
          "output_type": "stream",
          "name": "stdout",
          "text": [
            "<class 'pandas.core.frame.DataFrame'>\n",
            "RangeIndex: 19735 entries, 0 to 19734\n",
            "Data columns (total 29 columns):\n",
            " #   Column       Non-Null Count  Dtype  \n",
            "---  ------       --------------  -----  \n",
            " 0   date         19735 non-null  object \n",
            " 1   Appliances   19735 non-null  int64  \n",
            " 2   lights       19735 non-null  int64  \n",
            " 3   T1           19735 non-null  float64\n",
            " 4   RH_1         19735 non-null  float64\n",
            " 5   T2           19735 non-null  float64\n",
            " 6   RH_2         19735 non-null  float64\n",
            " 7   T3           19735 non-null  float64\n",
            " 8   RH_3         19735 non-null  float64\n",
            " 9   T4           19735 non-null  float64\n",
            " 10  RH_4         19735 non-null  float64\n",
            " 11  T5           19735 non-null  float64\n",
            " 12  RH_5         19735 non-null  float64\n",
            " 13  T6           19735 non-null  float64\n",
            " 14  RH_6         19735 non-null  float64\n",
            " 15  T7           19735 non-null  float64\n",
            " 16  RH_7         19735 non-null  float64\n",
            " 17  T8           19735 non-null  float64\n",
            " 18  RH_8         19735 non-null  float64\n",
            " 19  T9           19735 non-null  float64\n",
            " 20  RH_9         19735 non-null  float64\n",
            " 21  T_out        19735 non-null  float64\n",
            " 22  Press_mm_hg  19735 non-null  float64\n",
            " 23  RH_out       19735 non-null  float64\n",
            " 24  Windspeed    19735 non-null  float64\n",
            " 25  Visibility   19735 non-null  float64\n",
            " 26  Tdewpoint    19735 non-null  float64\n",
            " 27  rv1          19735 non-null  float64\n",
            " 28  rv2          19735 non-null  float64\n",
            "dtypes: float64(26), int64(2), object(1)\n",
            "memory usage: 4.4+ MB\n"
          ]
        }
      ]
    },
    {
      "cell_type": "code",
      "metadata": {
        "id": "BzEUkpvtbQO_"
      },
      "source": [
        "temp_dict = {\n",
        "    'T1' : 'kitchen_temp', 'T2' : 'living_temp', 'T3' : 'laundry_temp', \n",
        "    'T4' : 'office_temp', 'T5' : 'bath_temp', 'T6' : 'outside_temp',\n",
        "    'T7' : 'ironing_temp', 'T8' : 'teen_temp', 'T9' : 'parents_temp', 'T_out' : 'station_temp'\n",
        "}"
      ],
      "execution_count": 76,
      "outputs": []
    },
    {
      "cell_type": "code",
      "metadata": {
        "id": "S2rI7zqHbYZG"
      },
      "source": [
        "energy_df = ae_df.rename(columns=temp_dict)"
      ],
      "execution_count": 77,
      "outputs": []
    },
    {
      "cell_type": "code",
      "metadata": {
        "id": "QK6YfSk3bdSN"
      },
      "source": [
        "humid_dict = {\n",
        "    'RH_1' : 'kitchen_humid', 'RH_2' : 'living_humid', 'RH_3' : 'laundry_humid', \n",
        "    'RH_4' : 'office_humid', 'RH_5' : 'bath_humid', 'RH_6' : 'outside_humid',\n",
        "    'RH_7' : 'ironing_humid', 'RH_8' : 'teen_humid', 'RH_9' : 'parents_humid', 'RH_out' : 'station_humid'\n",
        "}"
      ],
      "execution_count": 78,
      "outputs": []
    },
    {
      "cell_type": "code",
      "metadata": {
        "id": "2ktvvRxvbh4n"
      },
      "source": [
        "energy_df = energy_df.rename(columns=humid_dict)"
      ],
      "execution_count": 79,
      "outputs": []
    },
    {
      "cell_type": "code",
      "metadata": {
        "colab": {
          "base_uri": "https://localhost:8080/",
          "height": 295
        },
        "id": "EZyG-rc9buOG",
        "outputId": "36b7eab1-6f1b-4960-d3fc-76a37792b665"
      },
      "source": [
        "energy_df[temp_dict.values()].describe()"
      ],
      "execution_count": 80,
      "outputs": [
        {
          "output_type": "execute_result",
          "data": {
            "text/html": [
              "<div>\n",
              "<style scoped>\n",
              "    .dataframe tbody tr th:only-of-type {\n",
              "        vertical-align: middle;\n",
              "    }\n",
              "\n",
              "    .dataframe tbody tr th {\n",
              "        vertical-align: top;\n",
              "    }\n",
              "\n",
              "    .dataframe thead th {\n",
              "        text-align: right;\n",
              "    }\n",
              "</style>\n",
              "<table border=\"1\" class=\"dataframe\">\n",
              "  <thead>\n",
              "    <tr style=\"text-align: right;\">\n",
              "      <th></th>\n",
              "      <th>kitchen_temp</th>\n",
              "      <th>living_temp</th>\n",
              "      <th>laundry_temp</th>\n",
              "      <th>office_temp</th>\n",
              "      <th>bath_temp</th>\n",
              "      <th>outside_temp</th>\n",
              "      <th>ironing_temp</th>\n",
              "      <th>teen_temp</th>\n",
              "      <th>parents_temp</th>\n",
              "      <th>station_temp</th>\n",
              "    </tr>\n",
              "  </thead>\n",
              "  <tbody>\n",
              "    <tr>\n",
              "      <th>count</th>\n",
              "      <td>19735.000000</td>\n",
              "      <td>19735.000000</td>\n",
              "      <td>19735.000000</td>\n",
              "      <td>19735.000000</td>\n",
              "      <td>19735.000000</td>\n",
              "      <td>19735.000000</td>\n",
              "      <td>19735.000000</td>\n",
              "      <td>19735.000000</td>\n",
              "      <td>19735.000000</td>\n",
              "      <td>19735.000000</td>\n",
              "    </tr>\n",
              "    <tr>\n",
              "      <th>mean</th>\n",
              "      <td>21.686571</td>\n",
              "      <td>20.341219</td>\n",
              "      <td>22.267611</td>\n",
              "      <td>20.855335</td>\n",
              "      <td>19.592106</td>\n",
              "      <td>7.910939</td>\n",
              "      <td>20.267106</td>\n",
              "      <td>22.029107</td>\n",
              "      <td>19.485828</td>\n",
              "      <td>7.411665</td>\n",
              "    </tr>\n",
              "    <tr>\n",
              "      <th>std</th>\n",
              "      <td>1.606066</td>\n",
              "      <td>2.192974</td>\n",
              "      <td>2.006111</td>\n",
              "      <td>2.042884</td>\n",
              "      <td>1.844623</td>\n",
              "      <td>6.090347</td>\n",
              "      <td>2.109993</td>\n",
              "      <td>1.956162</td>\n",
              "      <td>2.014712</td>\n",
              "      <td>5.317409</td>\n",
              "    </tr>\n",
              "    <tr>\n",
              "      <th>min</th>\n",
              "      <td>16.790000</td>\n",
              "      <td>16.100000</td>\n",
              "      <td>17.200000</td>\n",
              "      <td>15.100000</td>\n",
              "      <td>15.330000</td>\n",
              "      <td>-6.065000</td>\n",
              "      <td>15.390000</td>\n",
              "      <td>16.306667</td>\n",
              "      <td>14.890000</td>\n",
              "      <td>-5.000000</td>\n",
              "    </tr>\n",
              "    <tr>\n",
              "      <th>25%</th>\n",
              "      <td>20.760000</td>\n",
              "      <td>18.790000</td>\n",
              "      <td>20.790000</td>\n",
              "      <td>19.530000</td>\n",
              "      <td>18.277500</td>\n",
              "      <td>3.626667</td>\n",
              "      <td>18.700000</td>\n",
              "      <td>20.790000</td>\n",
              "      <td>18.000000</td>\n",
              "      <td>3.666667</td>\n",
              "    </tr>\n",
              "    <tr>\n",
              "      <th>50%</th>\n",
              "      <td>21.600000</td>\n",
              "      <td>20.000000</td>\n",
              "      <td>22.100000</td>\n",
              "      <td>20.666667</td>\n",
              "      <td>19.390000</td>\n",
              "      <td>7.300000</td>\n",
              "      <td>20.033333</td>\n",
              "      <td>22.100000</td>\n",
              "      <td>19.390000</td>\n",
              "      <td>6.916667</td>\n",
              "    </tr>\n",
              "    <tr>\n",
              "      <th>75%</th>\n",
              "      <td>22.600000</td>\n",
              "      <td>21.500000</td>\n",
              "      <td>23.290000</td>\n",
              "      <td>22.100000</td>\n",
              "      <td>20.619643</td>\n",
              "      <td>11.256000</td>\n",
              "      <td>21.600000</td>\n",
              "      <td>23.390000</td>\n",
              "      <td>20.600000</td>\n",
              "      <td>10.408333</td>\n",
              "    </tr>\n",
              "    <tr>\n",
              "      <th>max</th>\n",
              "      <td>26.260000</td>\n",
              "      <td>29.856667</td>\n",
              "      <td>29.236000</td>\n",
              "      <td>26.200000</td>\n",
              "      <td>25.795000</td>\n",
              "      <td>28.290000</td>\n",
              "      <td>26.000000</td>\n",
              "      <td>27.230000</td>\n",
              "      <td>24.500000</td>\n",
              "      <td>26.100000</td>\n",
              "    </tr>\n",
              "  </tbody>\n",
              "</table>\n",
              "</div>"
            ],
            "text/plain": [
              "       kitchen_temp   living_temp  ...  parents_temp  station_temp\n",
              "count  19735.000000  19735.000000  ...  19735.000000  19735.000000\n",
              "mean      21.686571     20.341219  ...     19.485828      7.411665\n",
              "std        1.606066      2.192974  ...      2.014712      5.317409\n",
              "min       16.790000     16.100000  ...     14.890000     -5.000000\n",
              "25%       20.760000     18.790000  ...     18.000000      3.666667\n",
              "50%       21.600000     20.000000  ...     19.390000      6.916667\n",
              "75%       22.600000     21.500000  ...     20.600000     10.408333\n",
              "max       26.260000     29.856667  ...     24.500000     26.100000\n",
              "\n",
              "[8 rows x 10 columns]"
            ]
          },
          "metadata": {},
          "execution_count": 80
        }
      ]
    },
    {
      "cell_type": "markdown",
      "metadata": {
        "id": "RQPtWQMxxocN"
      },
      "source": [
        "OBSERVATIONS :\n",
        "\n",
        "1.Average outside temperature over a period of 4.5 months is around 7.5 degrees. It ranges from -6 to 28 degrees\n",
        "\n",
        "2.While average temperature inside the building has been around 20 degrees for all the rooms. It ranges from 14 - 30 degrees\n",
        "\n",
        "3.Which implies, Warming appliances have been used to keep the insides of the building warm. There must be some sort of direct correlation between temperature and consumption of energy inside house."
      ]
    },
    {
      "cell_type": "code",
      "metadata": {
        "colab": {
          "base_uri": "https://localhost:8080/",
          "height": 295
        },
        "id": "uE0C65UMxVi4",
        "outputId": "07a173a8-183b-4f49-8ad1-8f1bf902fd4d"
      },
      "source": [
        "energy_df[humid_dict.values()].describe()"
      ],
      "execution_count": 81,
      "outputs": [
        {
          "output_type": "execute_result",
          "data": {
            "text/html": [
              "<div>\n",
              "<style scoped>\n",
              "    .dataframe tbody tr th:only-of-type {\n",
              "        vertical-align: middle;\n",
              "    }\n",
              "\n",
              "    .dataframe tbody tr th {\n",
              "        vertical-align: top;\n",
              "    }\n",
              "\n",
              "    .dataframe thead th {\n",
              "        text-align: right;\n",
              "    }\n",
              "</style>\n",
              "<table border=\"1\" class=\"dataframe\">\n",
              "  <thead>\n",
              "    <tr style=\"text-align: right;\">\n",
              "      <th></th>\n",
              "      <th>kitchen_humid</th>\n",
              "      <th>living_humid</th>\n",
              "      <th>laundry_humid</th>\n",
              "      <th>office_humid</th>\n",
              "      <th>bath_humid</th>\n",
              "      <th>outside_humid</th>\n",
              "      <th>ironing_humid</th>\n",
              "      <th>teen_humid</th>\n",
              "      <th>parents_humid</th>\n",
              "      <th>station_humid</th>\n",
              "    </tr>\n",
              "  </thead>\n",
              "  <tbody>\n",
              "    <tr>\n",
              "      <th>count</th>\n",
              "      <td>19735.000000</td>\n",
              "      <td>19735.000000</td>\n",
              "      <td>19735.000000</td>\n",
              "      <td>19735.000000</td>\n",
              "      <td>19735.000000</td>\n",
              "      <td>19735.000000</td>\n",
              "      <td>19735.000000</td>\n",
              "      <td>19735.000000</td>\n",
              "      <td>19735.000000</td>\n",
              "      <td>19735.000000</td>\n",
              "    </tr>\n",
              "    <tr>\n",
              "      <th>mean</th>\n",
              "      <td>40.259739</td>\n",
              "      <td>40.420420</td>\n",
              "      <td>39.242500</td>\n",
              "      <td>39.026904</td>\n",
              "      <td>50.949283</td>\n",
              "      <td>54.609083</td>\n",
              "      <td>35.388200</td>\n",
              "      <td>42.936165</td>\n",
              "      <td>41.552401</td>\n",
              "      <td>79.750418</td>\n",
              "    </tr>\n",
              "    <tr>\n",
              "      <th>std</th>\n",
              "      <td>3.979299</td>\n",
              "      <td>4.069813</td>\n",
              "      <td>3.254576</td>\n",
              "      <td>4.341321</td>\n",
              "      <td>9.022034</td>\n",
              "      <td>31.149806</td>\n",
              "      <td>5.114208</td>\n",
              "      <td>5.224361</td>\n",
              "      <td>4.151497</td>\n",
              "      <td>14.901088</td>\n",
              "    </tr>\n",
              "    <tr>\n",
              "      <th>min</th>\n",
              "      <td>27.023333</td>\n",
              "      <td>20.463333</td>\n",
              "      <td>28.766667</td>\n",
              "      <td>27.660000</td>\n",
              "      <td>29.815000</td>\n",
              "      <td>1.000000</td>\n",
              "      <td>23.200000</td>\n",
              "      <td>29.600000</td>\n",
              "      <td>29.166667</td>\n",
              "      <td>24.000000</td>\n",
              "    </tr>\n",
              "    <tr>\n",
              "      <th>25%</th>\n",
              "      <td>37.333333</td>\n",
              "      <td>37.900000</td>\n",
              "      <td>36.900000</td>\n",
              "      <td>35.530000</td>\n",
              "      <td>45.400000</td>\n",
              "      <td>30.025000</td>\n",
              "      <td>31.500000</td>\n",
              "      <td>39.066667</td>\n",
              "      <td>38.500000</td>\n",
              "      <td>70.333333</td>\n",
              "    </tr>\n",
              "    <tr>\n",
              "      <th>50%</th>\n",
              "      <td>39.656667</td>\n",
              "      <td>40.500000</td>\n",
              "      <td>38.530000</td>\n",
              "      <td>38.400000</td>\n",
              "      <td>49.090000</td>\n",
              "      <td>55.290000</td>\n",
              "      <td>34.863333</td>\n",
              "      <td>42.375000</td>\n",
              "      <td>40.900000</td>\n",
              "      <td>83.666667</td>\n",
              "    </tr>\n",
              "    <tr>\n",
              "      <th>75%</th>\n",
              "      <td>43.066667</td>\n",
              "      <td>43.260000</td>\n",
              "      <td>41.760000</td>\n",
              "      <td>42.156667</td>\n",
              "      <td>53.663333</td>\n",
              "      <td>83.226667</td>\n",
              "      <td>39.000000</td>\n",
              "      <td>46.536000</td>\n",
              "      <td>44.338095</td>\n",
              "      <td>91.666667</td>\n",
              "    </tr>\n",
              "    <tr>\n",
              "      <th>max</th>\n",
              "      <td>63.360000</td>\n",
              "      <td>56.026667</td>\n",
              "      <td>50.163333</td>\n",
              "      <td>51.090000</td>\n",
              "      <td>96.321667</td>\n",
              "      <td>99.900000</td>\n",
              "      <td>51.400000</td>\n",
              "      <td>58.780000</td>\n",
              "      <td>53.326667</td>\n",
              "      <td>100.000000</td>\n",
              "    </tr>\n",
              "  </tbody>\n",
              "</table>\n",
              "</div>"
            ],
            "text/plain": [
              "       kitchen_humid  living_humid  ...  parents_humid  station_humid\n",
              "count   19735.000000  19735.000000  ...   19735.000000   19735.000000\n",
              "mean       40.259739     40.420420  ...      41.552401      79.750418\n",
              "std         3.979299      4.069813  ...       4.151497      14.901088\n",
              "min        27.023333     20.463333  ...      29.166667      24.000000\n",
              "25%        37.333333     37.900000  ...      38.500000      70.333333\n",
              "50%        39.656667     40.500000  ...      40.900000      83.666667\n",
              "75%        43.066667     43.260000  ...      44.338095      91.666667\n",
              "max        63.360000     56.026667  ...      53.326667     100.000000\n",
              "\n",
              "[8 rows x 10 columns]"
            ]
          },
          "metadata": {},
          "execution_count": 81
        }
      ]
    },
    {
      "cell_type": "markdown",
      "metadata": {
        "id": "U4CbfBlkAJNz"
      },
      "source": [
        "OBSERVATIONS :\n",
        "\n",
        "1.Average humidity outside the building has been higher than the average humidity inside.\n",
        "\n",
        "2.Average humidity at the weather station is significantly higher compared to outside humidity near the building.\n",
        "\n",
        "3.Average humidity in the bathroom is significantly higher compared to other rooms due to obvious reasons.\n",
        "\n",
        "4.Kids and parent room show a comparatively higher average humidity as well signifying the fact that, inhabitants of this building spend most of their time in these buildings."
      ]
    },
    {
      "cell_type": "code",
      "metadata": {
        "colab": {
          "base_uri": "https://localhost:8080/"
        },
        "id": "bIxq2uZlmMuI",
        "outputId": "61b0f5d7-d4cf-46a7-e5c1-57c8494af118"
      },
      "source": [
        "weather_cols = list(set(energy_df.columns) - set(list(temp_dict.values())) - set(list(humid_dict.values())) - {'Appliances', 'lights', 'rv1', 'rv2'})\n",
        "weather_cols"
      ],
      "execution_count": 82,
      "outputs": [
        {
          "output_type": "execute_result",
          "data": {
            "text/plain": [
              "['Tdewpoint', 'date', 'Visibility', 'Windspeed', 'Press_mm_hg']"
            ]
          },
          "metadata": {},
          "execution_count": 82
        }
      ]
    },
    {
      "cell_type": "markdown",
      "metadata": {
        "id": "jYktbvfymiC1"
      },
      "source": [
        "Distribution of our appliances energy usage :"
      ]
    },
    {
      "cell_type": "code",
      "metadata": {
        "colab": {
          "base_uri": "https://localhost:8080/"
        },
        "id": "S5eo9w_0mhaR",
        "outputId": "97cd6e2f-9c82-476a-db56-da869ca544a2"
      },
      "source": [
        "ae_df.Appliances.describe()"
      ],
      "execution_count": 83,
      "outputs": [
        {
          "output_type": "execute_result",
          "data": {
            "text/plain": [
              "count    19735.000000\n",
              "mean        97.694958\n",
              "std        102.524891\n",
              "min         10.000000\n",
              "25%         50.000000\n",
              "50%         60.000000\n",
              "75%        100.000000\n",
              "max       1080.000000\n",
              "Name: Appliances, dtype: float64"
            ]
          },
          "metadata": {},
          "execution_count": 83
        }
      ]
    },
    {
      "cell_type": "code",
      "metadata": {
        "colab": {
          "base_uri": "https://localhost:8080/",
          "height": 296
        },
        "id": "IGbGcEyZmwUM",
        "outputId": "bcb3b988-7b00-4ff6-ce06-6fd948c62837"
      },
      "source": [
        "sns.histplot(ae_df['Appliances'])"
      ],
      "execution_count": 84,
      "outputs": [
        {
          "output_type": "execute_result",
          "data": {
            "text/plain": [
              "<matplotlib.axes._subplots.AxesSubplot at 0x7fc989a30110>"
            ]
          },
          "metadata": {},
          "execution_count": 84
        },
        {
          "output_type": "display_data",
          "data": {
            "image/png": "[encoded data removed]",
            "text/plain": [
              "<Figure size 432x288 with 1 Axes>"
            ]
          },
          "metadata": {
            "needs_background": "light"
          }
        }
      ]
    },
    {
      "cell_type": "markdown",
      "metadata": {
        "id": "876jfnt_m96M"
      },
      "source": [
        "75% of Appliance consumption is less than 100 Wh . With the maximum consumption of 1080 Wh , there will be outliers in this column and there are small number of cases where consumption is very high."
      ]
    },
    {
      "cell_type": "code",
      "metadata": {
        "colab": {
          "base_uri": "https://localhost:8080/",
          "height": 286
        },
        "id": "eT62PdafBt1y",
        "outputId": "30ceaa48-973b-475a-8019-737ebd3b8245"
      },
      "source": [
        "ae_df.lights.hist(bins=10)\n"
      ],
      "execution_count": 85,
      "outputs": [
        {
          "output_type": "execute_result",
          "data": {
            "text/plain": [
              "<matplotlib.axes._subplots.AxesSubplot at 0x7fc98a1f97d0>"
            ]
          },
          "metadata": {},
          "execution_count": 85
        },
        {
          "output_type": "display_data",
          "data": {
            "image/png": "[encoded data removed]",
            "text/plain": [
              "<Figure size 432x288 with 1 Axes>"
            ]
          },
          "metadata": {
            "needs_background": "light"
          }
        }
      ]
    },
    {
      "cell_type": "code",
      "metadata": {
        "colab": {
          "base_uri": "https://localhost:8080/"
        },
        "id": "WDrx03KtB20o",
        "outputId": "af67c8b2-4418-4a59-b330-3a419f43a391"
      },
      "source": [
        "ae_df.lights.value_counts()"
      ],
      "execution_count": 86,
      "outputs": [
        {
          "output_type": "execute_result",
          "data": {
            "text/plain": [
              "0     15252\n",
              "10     2212\n",
              "20     1624\n",
              "30      559\n",
              "40       77\n",
              "50        9\n",
              "60        1\n",
              "70        1\n",
              "Name: lights, dtype: int64"
            ]
          },
          "metadata": {},
          "execution_count": 86
        }
      ]
    },
    {
      "cell_type": "markdown",
      "metadata": {
        "id": "z8TVnywMB6c5"
      },
      "source": [
        "Since most of the value in lights column is 0, it wont be playing much role in our model. Hence we drop the lights feature from our dataframe."
      ]
    },
    {
      "cell_type": "code",
      "metadata": {
        "id": "JLDWuoSpB-QH"
      },
      "source": [
        "energy_df= energy_df.drop('lights', axis=1)"
      ],
      "execution_count": 87,
      "outputs": []
    },
    {
      "cell_type": "markdown",
      "metadata": {
        "id": "SlerW2JBCPO6"
      },
      "source": [
        "#Energy consumption\n"
      ]
    },
    {
      "cell_type": "code",
      "metadata": {
        "id": "Gvqubd4ECFsx"
      },
      "source": [
        "energy_df['weekday'] = ((pd.to_datetime(energy_df['date']).dt.dayofweek)// 5 == 0).astype(int)\n",
        "energy_df['hour'] = pd.to_datetime(energy_df['date']).dt.hour\n",
        "energy_df['month'] = pd.to_datetime(energy_df['date']).dt.month"
      ],
      "execution_count": 88,
      "outputs": []
    },
    {
      "cell_type": "code",
      "metadata": {
        "colab": {
          "base_uri": "https://localhost:8080/",
          "height": 0
        },
        "id": "oR6RdljhQh7p",
        "outputId": "f8d71616-27cd-4a04-e7c1-06b63102e4be"
      },
      "source": [
        "fig, ax = plt.subplots(1,1,figsize=(7,5))\n",
        "energy_df.groupby('hour').agg({'Appliances' : 'mean'}).plot.bar(ax=ax)\n",
        "ax.set_ylabel('Appliance energy (Wh)')"
      ],
      "execution_count": 89,
      "outputs": [
        {
          "output_type": "execute_result",
          "data": {
            "text/plain": [
              "Text(0, 0.5, 'Appliance energy (Wh)')"
            ]
          },
          "metadata": {},
          "execution_count": 89
        },
        {
          "output_type": "display_data",
          "data": {
            "image/png": "[encoded data removed]",
            "text/plain": [
              "<Figure size 504x360 with 1 Axes>"
            ]
          },
          "metadata": {
            "needs_background": "light"
          }
        }
      ]
    },
    {
      "cell_type": "code",
      "metadata": {
        "colab": {
          "base_uri": "https://localhost:8080/",
          "height": 0
        },
        "id": "yvHP-28wQpL4",
        "outputId": "d9c3d04a-d50d-4efb-daaa-0b64696cfd5b"
      },
      "source": [
        "fig, ax = plt.subplots(1,1,figsize=(20,5))\n",
        "energy_df.groupby(['month','hour']).agg({'Appliances' : 'mean'}).plot.bar(ax=ax)\n",
        "ax.set_ylabel('Appliance enrergy (Wh)')"
      ],
      "execution_count": 90,
      "outputs": [
        {
          "output_type": "execute_result",
          "data": {
            "text/plain": [
              "Text(0, 0.5, 'Appliance enrergy (Wh)')"
            ]
          },
          "metadata": {},
          "execution_count": 90
        },
        {
          "output_type": "display_data",
          "data": {
            "image/png": "[encoded data removed]",
            "text/plain": [
              "<Figure size 1440x360 with 1 Axes>"
            ]
          },
          "metadata": {
            "needs_background": "light"
          }
        }
      ]
    },
    {
      "cell_type": "code",
      "metadata": {
        "colab": {
          "base_uri": "https://localhost:8080/",
          "height": 0
        },
        "id": "loMqPK6zQr9J",
        "outputId": "d15760c4-2619-4800-9af7-c86c4172ae1f"
      },
      "source": [
        "#What about weekdays and weekends?\n",
        "fig, ax = plt.subplots(1,2,figsize=(15,5))\n",
        "week_df = energy_df.groupby(['weekday','hour']).agg({'Appliances':'mean'}).reset_index(0)\n",
        "week_df[week_df.weekday==0].Appliances.plot.bar(ax=ax[0], label='weekends')\n",
        "week_df[week_df.weekday==1].Appliances.plot.bar(ax=ax[1], label='weekdays')\n",
        "ax[0].legend(loc='best')\n",
        "ax[1].legend(loc='best')\n",
        "ax[0].set_ylabel('Appliance Energy (Wh)')\n",
        "ax[1].set_ylabel('Appliance Energy (Wh)')"
      ],
      "execution_count": 91,
      "outputs": [
        {
          "output_type": "execute_result",
          "data": {
            "text/plain": [
              "Text(0, 0.5, 'Appliance Energy (Wh)')"
            ]
          },
          "metadata": {},
          "execution_count": 91
        },
        {
          "output_type": "display_data",
          "data": {
            "image/png": "[encoded data removed]",
            "text/plain": [
              "<Figure size 1080x360 with 2 Axes>"
            ]
          },
          "metadata": {
            "needs_background": "light"
          }
        }
      ]
    },
    {
      "cell_type": "markdown",
      "metadata": {
        "id": "zkYLGoIKQ3wc"
      },
      "source": [
        "#Temperature levels"
      ]
    },
    {
      "cell_type": "code",
      "metadata": {
        "colab": {
          "base_uri": "https://localhost:8080/",
          "height": 594
        },
        "id": "oIgOEokrQ0Ux",
        "outputId": "54f53830-1cb9-4ddb-92be-806ee6b7d5f5"
      },
      "source": [
        "fig, axes = plt.subplots(2,5,figsize=(50,20))\n",
        "for i, temp in enumerate(temp_dict.values()):\n",
        "  energy_df.groupby('hour').agg({temp : 'mean'}).plot.bar(ax=axes[i//5, i%5])\n",
        "  axes[i//5, i%5].legend(loc='best')\n",
        "  axes[i//5, i%5].set_title(temp)"
      ],
      "execution_count": 28,
      "outputs": [
        {
          "output_type": "display_data",
          "data": {
            "image/png": "[encoded data removed]",
            "text/plain": [
              "<Figure size 3600x1440 with 10 Axes>"
            ]
          },
          "metadata": {
            "needs_background": "light"
          }
        }
      ]
    },
    {
      "cell_type": "code",
      "metadata": {
        "colab": {
          "base_uri": "https://localhost:8080/",
          "height": 374
        },
        "id": "p9ktDPkBRHti",
        "outputId": "04026dd1-e145-4683-d4f7-b9a137faf6f2"
      },
      "source": [
        "fig, ax = plt.subplots(1,1,figsize=(20,5))\n",
        "energy_df.groupby(['month','hour']).agg({'outside_temp' : 'mean'}).plot.bar(ax=ax)"
      ],
      "execution_count": 29,
      "outputs": [
        {
          "output_type": "execute_result",
          "data": {
            "text/plain": [
              "<matplotlib.axes._subplots.AxesSubplot at 0x7fc994e3b850>"
            ]
          },
          "metadata": {},
          "execution_count": 29
        },
        {
          "output_type": "display_data",
          "data": {
            "image/png": "[encoded data removed]",
            "text/plain": [
              "<Figure size 1440x360 with 1 Axes>"
            ]
          },
          "metadata": {
            "needs_background": "light"
          }
        }
      ]
    },
    {
      "cell_type": "code",
      "metadata": {
        "colab": {
          "base_uri": "https://localhost:8080/",
          "height": 590
        },
        "id": "ZnY_JJelRTat",
        "outputId": "9283b778-9b5b-4519-e273-043bb6accbd9"
      },
      "source": [
        "fig, axes = plt.subplots(2,5,figsize=(50,20))\n",
        "for i, temp in enumerate(temp_dict.values()):\n",
        "  energy_df.groupby('month').agg({temp : 'mean'}).plot.bar(ax=axes[i//5, i%5])\n",
        "  axes[i//5, i%5].legend(loc='best')\n",
        "  axes[i//5, i%5].set_title(temp)"
      ],
      "execution_count": 30,
      "outputs": [
        {
          "output_type": "display_data",
          "data": {
            "image/png": "[encoded data removed]",
            "text/plain": [
              "<Figure size 3600x1440 with 10 Axes>"
            ]
          },
          "metadata": {
            "needs_background": "light"
          }
        }
      ]
    },
    {
      "cell_type": "code",
      "metadata": {
        "id": "jljPsG2tY63n"
      },
      "source": [
        "temperatures_of_different_rooms = ['kitchen_temp','living_temp','laundry_temp', \n",
        "    'office_temp', 'bath_temp','outside_temp',\n",
        "    'ironing_temp','teen_temp','parents_temp','station_temp', 'Appliances']"
      ],
      "execution_count": 31,
      "outputs": []
    },
    {
      "cell_type": "code",
      "metadata": {
        "colab": {
          "base_uri": "https://localhost:8080/",
          "height": 722
        },
        "id": "J88fjsVBVyKE",
        "outputId": "23d45b42-682f-4e6a-e751-0cea16c5f9f2"
      },
      "source": [
        "fig, ax = plt.subplots(figsize=(25,12))\n",
        "sns.heatmap(energy_df[temperatures_of_different_rooms].corr(), annot = True, linewidths=4, linecolor='black')"
      ],
      "execution_count": 32,
      "outputs": [
        {
          "output_type": "execute_result",
          "data": {
            "text/plain": [
              "<matplotlib.axes._subplots.AxesSubplot at 0x7fc994e23890>"
            ]
          },
          "metadata": {},
          "execution_count": 32
        },
        {
          "output_type": "display_data",
          "data": {
            "image/png": "[encoded data removed]",
            "text/plain": [
              "<Figure size 1800x864 with 2 Axes>"
            ]
          },
          "metadata": {
            "needs_background": "light"
          }
        }
      ]
    },
    {
      "cell_type": "markdown",
      "metadata": {
        "id": "ul93J-YNXJsk"
      },
      "source": [
        "OBSERVATION FROM TEMPERATURES\n",
        "\n",
        "*Since parents_temp, teen_temp, and iroining_temp are highly correlated to each other and out of these teen_temp is highly correlated with Appliances so we take only teen_temp to final model\n",
        "\n",
        "*Since kitchen_temp, living_temp, laundry_temp, office_temp and bath_temp are highly correlated to each other and out of these living_temp is highly correlated with Appliances so we take only teen_temp to final model\n",
        "outside_temp is also highly correlated with appliances"
      ]
    },
    {
      "cell_type": "code",
      "metadata": {
        "id": "VNh8BkajasmK"
      },
      "source": [
        "humidities_of_different_rooms = ['kitchen_humid', 'living_humid', 'laundry_humid', \n",
        "    'office_humid','bath_humid', 'outside_humid',\n",
        "    'ironing_humid', 'teen_humid', 'parents_humid', 'station_humid', 'Appliances']"
      ],
      "execution_count": 33,
      "outputs": []
    },
    {
      "cell_type": "code",
      "metadata": {
        "colab": {
          "base_uri": "https://localhost:8080/",
          "height": 722
        },
        "id": "pUydcxFMbVy6",
        "outputId": "4f0d75e4-6e0a-4d5c-82da-deac126c4c5a"
      },
      "source": [
        "fig, ax = plt.subplots(figsize=(25,12))\n",
        "sns.heatmap(energy_df[humidities_of_different_rooms].corr(), annot = True, linewidths=4, linecolor='black')"
      ],
      "execution_count": 34,
      "outputs": [
        {
          "output_type": "execute_result",
          "data": {
            "text/plain": [
              "<matplotlib.axes._subplots.AxesSubplot at 0x7fc992e9a150>"
            ]
          },
          "metadata": {},
          "execution_count": 34
        },
        {
          "output_type": "display_data",
          "data": {
            "image/png": "[encoded data removed]",
            "text/plain": [
              "<Figure size 1800x864 with 2 Axes>"
            ]
          },
          "metadata": {
            "needs_background": "light"
          }
        }
      ]
    },
    {
      "cell_type": "markdown",
      "metadata": {
        "id": "G_MDbp0fua-u"
      },
      "source": [
        "#Splitting Train and Test Set"
      ]
    },
    {
      "cell_type": "code",
      "metadata": {
        "id": "fX12zfxqzrRe"
      },
      "source": [
        "import numpy as np\n",
        "import matplotlib.pyplot as plt\n",
        "import seaborn as sns\n",
        "import pandas as pd\n",
        "import warnings\n",
        "from sklearn.decomposition import PCA, LatentDirichletAllocation\n",
        "from sklearn.model_selection import train_test_split\n",
        "from sklearn.linear_model import Ridge, Lasso\n",
        "from sklearn.ensemble import RandomForestRegressor, GradientBoostingRegressor, ExtraTreesRegressor\n",
        "from sklearn.neural_network import MLPRegressor\n",
        "import xgboost as xgb\n",
        "from sklearn import neighbors\n",
        "from sklearn.svm import SVR\n",
        "import time\n",
        "from math import sqrt\n",
        "from sklearn.metrics import mean_squared_error, r2_score\n",
        "from sklearn.preprocessing import StandardScaler\n",
        "from sklearn.model_selection import GridSearchCV"
      ],
      "execution_count": 132,
      "outputs": []
    },
    {
      "cell_type": "code",
      "metadata": {
        "id": "wUTJi7Qmzx9y"
      },
      "source": [
        "from keras.wrappers.scikit_learn import KerasRegressor\n",
        "from sklearn.model_selection import cross_val_score\n",
        "from sklearn.model_selection import KFold\n",
        "from sklearn.pipeline import Pipeline\n",
        "from tensorflow.keras import Sequential, layers, Input"
      ],
      "execution_count": 133,
      "outputs": []
    },
    {
      "cell_type": "code",
      "metadata": {
        "id": "RPY3vGQBz410"
      },
      "source": [
        "warnings.filterwarnings('ignore')"
      ],
      "execution_count": 94,
      "outputs": []
    },
    {
      "cell_type": "code",
      "metadata": {
        "id": "Gn8IdW9Yz97R"
      },
      "source": [
        "from sklearn.model_selection import train_test_split\n",
        "\n",
        "# 75% of the data is usedfor the training of the models and the rest is used for testing\n",
        "train, test = train_test_split(energy_df,test_size=0.25,random_state=40)"
      ],
      "execution_count": 95,
      "outputs": []
    },
    {
      "cell_type": "code",
      "metadata": {
        "colab": {
          "base_uri": "https://localhost:8080/"
        },
        "id": "ztuNVIxk0kh0",
        "outputId": "1175702b-2b45-43e4-e41d-edb2bb09ad98"
      },
      "source": [
        "humid_dict.values()"
      ],
      "execution_count": 96,
      "outputs": [
        {
          "output_type": "execute_result",
          "data": {
            "text/plain": [
              "dict_values(['kitchen_humid', 'living_humid', 'laundry_humid', 'office_humid', 'bath_humid', 'outside_humid', 'ironing_humid', 'teen_humid', 'parents_humid', 'station_humid'])"
            ]
          },
          "metadata": {},
          "execution_count": 96
        }
      ]
    },
    {
      "cell_type": "code",
      "metadata": {
        "colab": {
          "base_uri": "https://localhost:8080/"
        },
        "id": "EmQVE5If0rkL",
        "outputId": "2489dc2b-e892-40a4-d7bb-e604326fc8e2"
      },
      "source": [
        "temp_dict.values()"
      ],
      "execution_count": 97,
      "outputs": [
        {
          "output_type": "execute_result",
          "data": {
            "text/plain": [
              "dict_values(['kitchen_temp', 'living_temp', 'laundry_temp', 'office_temp', 'bath_temp', 'outside_temp', 'ironing_temp', 'teen_temp', 'parents_temp', 'station_temp'])"
            ]
          },
          "metadata": {},
          "execution_count": 97
        }
      ]
    },
    {
      "cell_type": "code",
      "metadata": {
        "colab": {
          "base_uri": "https://localhost:8080/"
        },
        "id": "XvSvC1mO0ur8",
        "outputId": "6b378fcf-2aa9-49eb-bf22-1cc18f3b2dec"
      },
      "source": [
        "energy_df.columns"
      ],
      "execution_count": 98,
      "outputs": [
        {
          "output_type": "execute_result",
          "data": {
            "text/plain": [
              "Index(['date', 'Appliances', 'kitchen_temp', 'kitchen_humid', 'living_temp',\n",
              "       'living_humid', 'laundry_temp', 'laundry_humid', 'office_temp',\n",
              "       'office_humid', 'bath_temp', 'bath_humid', 'outside_temp',\n",
              "       'outside_humid', 'ironing_temp', 'ironing_humid', 'teen_temp',\n",
              "       'teen_humid', 'parents_temp', 'parents_humid', 'station_temp',\n",
              "       'Press_mm_hg', 'station_humid', 'Windspeed', 'Visibility', 'Tdewpoint',\n",
              "       'rv1', 'rv2', 'weekday', 'hour', 'month'],\n",
              "      dtype='object')"
            ]
          },
          "metadata": {},
          "execution_count": 98
        }
      ]
    },
    {
      "cell_type": "code",
      "metadata": {
        "id": "8COAADDa0zzr"
      },
      "source": [
        "# Divide the columns based on type for clear column management \n",
        "\n",
        "col_temp = ['kitchen_temp', 'living_temp', 'laundry_temp', 'office_temp', 'bath_temp', 'outside_temp', 'ironing_temp', 'teen_temp', 'parents_temp']\n",
        "\n",
        "col_hum = ['kitchen_humid', 'living_humid', 'laundry_humid', 'office_humid', 'bath_humid', 'outside_humid', 'ironing_humid', 'teen_humid', 'parents_humid']\n",
        "\n",
        "col_weather = ['station_temp', 'Tdewpoint','station_humid',\"Press_mm_hg\",\n",
        "                \"Windspeed\",\"Visibility\"] \n",
        "col_light = [\"lights\"]\n",
        "\n",
        "col_randoms = [\"rv1\", \"rv2\"]\n",
        "\n",
        "col_target = [\"Appliances\"]"
      ],
      "execution_count": 99,
      "outputs": []
    },
    {
      "cell_type": "code",
      "metadata": {
        "id": "XZbYI_8t06Mq"
      },
      "source": [
        "# Seperate dependent and independent variables \n",
        "feature_vars = train[col_temp + col_hum + col_weather]\n",
        "target_vars = train[col_target]"
      ],
      "execution_count": 100,
      "outputs": []
    },
    {
      "cell_type": "code",
      "metadata": {
        "id": "qIQdHpNd094N"
      },
      "source": [
        "#Split training dataset into independent and dependent varibales\n",
        "X_train = train[feature_vars.columns]\n",
        "y_train = train[target_vars.columns]"
      ],
      "execution_count": 101,
      "outputs": []
    },
    {
      "cell_type": "code",
      "metadata": {
        "id": "nWeA5FWO1FsQ"
      },
      "source": [
        "#Split testing dataset into independent and dependent varibales\n",
        "X_test = test[feature_vars.columns]\n",
        "y_test = test[target_vars.columns]"
      ],
      "execution_count": 102,
      "outputs": []
    },
    {
      "cell_type": "code",
      "metadata": {
        "colab": {
          "base_uri": "https://localhost:8080/"
        },
        "id": "TFYySxfg1H24",
        "outputId": "ece273a7-108e-425e-d9a5-cfe842a11ccd"
      },
      "source": [
        "X_train.columns"
      ],
      "execution_count": 103,
      "outputs": [
        {
          "output_type": "execute_result",
          "data": {
            "text/plain": [
              "Index(['kitchen_temp', 'living_temp', 'laundry_temp', 'office_temp',\n",
              "       'bath_temp', 'outside_temp', 'ironing_temp', 'teen_temp',\n",
              "       'parents_temp', 'kitchen_humid', 'living_humid', 'laundry_humid',\n",
              "       'office_humid', 'bath_humid', 'outside_humid', 'ironing_humid',\n",
              "       'teen_humid', 'parents_humid', 'station_temp', 'Tdewpoint',\n",
              "       'station_humid', 'Press_mm_hg', 'Windspeed', 'Visibility'],\n",
              "      dtype='object')"
            ]
          },
          "metadata": {},
          "execution_count": 103
        }
      ]
    },
    {
      "cell_type": "code",
      "metadata": {
        "colab": {
          "base_uri": "https://localhost:8080/"
        },
        "id": "4Z6TR5CE1L6S",
        "outputId": "b4da9568-29fd-4611-feeb-e5c8b3a8f41e"
      },
      "source": [
        "X_test.columns"
      ],
      "execution_count": 104,
      "outputs": [
        {
          "output_type": "execute_result",
          "data": {
            "text/plain": [
              "Index(['kitchen_temp', 'living_temp', 'laundry_temp', 'office_temp',\n",
              "       'bath_temp', 'outside_temp', 'ironing_temp', 'teen_temp',\n",
              "       'parents_temp', 'kitchen_humid', 'living_humid', 'laundry_humid',\n",
              "       'office_humid', 'bath_humid', 'outside_humid', 'ironing_humid',\n",
              "       'teen_humid', 'parents_humid', 'station_temp', 'Tdewpoint',\n",
              "       'station_humid', 'Press_mm_hg', 'Windspeed', 'Visibility'],\n",
              "      dtype='object')"
            ]
          },
          "metadata": {},
          "execution_count": 104
        }
      ]
    },
    {
      "cell_type": "code",
      "metadata": {
        "colab": {
          "base_uri": "https://localhost:8080/"
        },
        "id": "ab3xeoegvnpu",
        "outputId": "676a90a3-43c7-41c2-d660-ebf2ab69f346"
      },
      "source": [
        "print(X_train.shape)\n",
        "print(X_test.shape)"
      ],
      "execution_count": 105,
      "outputs": [
        {
          "output_type": "stream",
          "name": "stdout",
          "text": [
            "(14801, 24)\n",
            "(4934, 24)\n"
          ]
        }
      ]
    },
    {
      "cell_type": "code",
      "metadata": {
        "id": "7VO0bBnb1U5R"
      },
      "source": [
        "sc_X = StandardScaler()\n",
        "X_train = sc_X.fit_transform(X_train)\n",
        "X_test = sc_X.transform(X_test)"
      ],
      "execution_count": 106,
      "outputs": []
    },
    {
      "cell_type": "code",
      "metadata": {
        "id": "oW8IztEd1ZpH"
      },
      "source": [
        "sc_y = StandardScaler()\n",
        "y_train = sc_y.fit_transform(y_train.values.reshape([-1,1])).flatten()\n",
        "y_test = sc_y.transform(y_test.values.reshape([-1,1])).flatten()"
      ],
      "execution_count": 107,
      "outputs": []
    },
    {
      "cell_type": "code",
      "metadata": {
        "id": "reu-La67xJ8E"
      },
      "source": [
        "r2_val = []\n",
        "rmse_val =[]"
      ],
      "execution_count": 117,
      "outputs": []
    },
    {
      "cell_type": "code",
      "metadata": {
        "id": "daBN5IeFxMRg"
      },
      "source": [
        "#Evalution Metrics\n",
        "#function for model scored\n",
        "def model_scores(model,xtest,ytest):\n",
        "\n",
        "  #r2score\n",
        "  r2 =  metrics.r2_score(ytest,model.predict(xtest))\n",
        "\n",
        "  #root mean squared error\n",
        "  rmse = sqrt(mean_squared_error(ytest,model.predict(xtest)))\n",
        "\n",
        "  #accuracy\n",
        "  acc = 100 - (100 * np.mean(abs(model.predict(xtest) - ytest)/ytest))\n",
        "  print('\\n\\n\\nfor' , model)\n",
        "  print('\\n\\n\\nr2 score is', r2)\n",
        "  print('rmse score is', rmse)\n",
        "  print('accuracy is', acc , '% \\n\\n\\n')\n",
        "  accuracy.append(acc)\n",
        "  r2_val.append(r2)\n",
        "  rmse_val.append(rmse)"
      ],
      "execution_count": 118,
      "outputs": []
    },
    {
      "cell_type": "markdown",
      "metadata": {
        "id": "DaZggJSdxjdX"
      },
      "source": [
        "#XGBOOST"
      ]
    },
    {
      "cell_type": "code",
      "metadata": {
        "id": "aAJ4dcjGyQKC"
      },
      "source": [
        "model_name =[]"
      ],
      "execution_count": 121,
      "outputs": []
    },
    {
      "cell_type": "code",
      "metadata": {
        "colab": {
          "base_uri": "https://localhost:8080/"
        },
        "id": "MzN27p551mQC",
        "outputId": "62ac684f-1599-4054-834f-44e4de76c46d"
      },
      "source": [
        "xgb = xgb.XGBRegressor()\n",
        "xgb.fit(X_train, y_train)\n",
        "model_scores(xgb,X_test,y_test)\n",
        "model_name.append('xgb')"
      ],
      "execution_count": 125,
      "outputs": [
        {
          "output_type": "stream",
          "name": "stdout",
          "text": [
            "[15:19:53] WARNING: /workspace/src/objective/regression_obj.cu:152: reg:linear is now deprecated in favor of reg:squarederror.\n",
            "\n",
            "\n",
            "\n",
            "for XGBRegressor()\n",
            "\n",
            "\n",
            "\n",
            "r2 score is 0.2423670066799818\n",
            "rmse score is 0.8567146706478532\n",
            "accuracy is 87.98048776821959 % \n",
            "\n",
            "\n",
            "\n"
          ]
        }
      ]
    },
    {
      "cell_type": "markdown",
      "metadata": {
        "id": "8_kTBLazd20S"
      },
      "source": [
        "#Linear Regression"
      ]
    },
    {
      "cell_type": "code",
      "metadata": {
        "colab": {
          "base_uri": "https://localhost:8080/"
        },
        "id": "vb5kG0Ypg2nA",
        "outputId": "4bc13df2-d9f4-49fa-b719-6a5766278fc4"
      },
      "source": [
        "LinearRegression.score(X_test, y_test)"
      ],
      "execution_count": 127,
      "outputs": [
        {
          "output_type": "execute_result",
          "data": {
            "text/plain": [
              "0.13475556547191114"
            ]
          },
          "metadata": {},
          "execution_count": 127
        }
      ]
    },
    {
      "cell_type": "code",
      "metadata": {
        "id": "EkmjjN1Ximhk"
      },
      "source": [
        "y_pred=LinearRegression.predict(X_test)"
      ],
      "execution_count": 139,
      "outputs": []
    },
    {
      "cell_type": "code",
      "metadata": {
        "colab": {
          "base_uri": "https://localhost:8080/"
        },
        "id": "Bsk-tIsFhtJF",
        "outputId": "8189a6c9-a7f7-4803-89f5-3fd7fae4d337"
      },
      "source": [
        "r2_score(y_test, y_pred)"
      ],
      "execution_count": 140,
      "outputs": [
        {
          "output_type": "execute_result",
          "data": {
            "text/plain": [
              "0.13475556547191114"
            ]
          },
          "metadata": {},
          "execution_count": 140
        }
      ]
    },
    {
      "cell_type": "code",
      "metadata": {
        "colab": {
          "base_uri": "https://localhost:8080/"
        },
        "id": "Zp7d67zapR9l",
        "outputId": "daec7668-ef52-42f6-9f27-650276a2f2ed"
      },
      "source": [
        "regressor = LinearRegression()\n",
        "regressor.fit(X_train, y_train)"
      ],
      "execution_count": 156,
      "outputs": [
        {
          "output_type": "execute_result",
          "data": {
            "text/plain": [
              "LinearRegression()"
            ]
          },
          "metadata": {},
          "execution_count": 156
        }
      ]
    },
    {
      "cell_type": "code",
      "metadata": {
        "colab": {
          "base_uri": "https://localhost:8080/"
        },
        "id": "cF09aicophGd",
        "outputId": "4244693d-2619-498b-8ef8-b7ade4f6d71c"
      },
      "source": [
        "regressor.intercept_"
      ],
      "execution_count": 157,
      "outputs": [
        {
          "output_type": "execute_result",
          "data": {
            "text/plain": [
              "-2.662206308525692e-15"
            ]
          },
          "metadata": {},
          "execution_count": 157
        }
      ]
    },
    {
      "cell_type": "code",
      "metadata": {
        "colab": {
          "base_uri": "https://localhost:8080/"
        },
        "id": "Pc3mdbJFpm8z",
        "outputId": "19c2e710-5ee4-4caf-88b9-d656d4db4d14"
      },
      "source": [
        "regressor.coef_"
      ],
      "execution_count": 158,
      "outputs": [
        {
          "output_type": "execute_result",
          "data": {
            "text/plain": [
              "array([-0.00296823, -0.46008951,  0.50348801,  0.06616112, -0.01218331,\n",
              "        0.45531222,  0.00205589,  0.21893972, -0.41526965,  0.62488674,\n",
              "       -0.59647718,  0.16774734,  0.1018053 ,  0.01519432,  0.08833811,\n",
              "       -0.06806866, -0.30868589, -0.06085231, -0.51066166,  0.15865594,\n",
              "       -0.11326963,  0.01135919,  0.05298214,  0.02301275])"
            ]
          },
          "metadata": {},
          "execution_count": 158
        }
      ]
    },
    {
      "cell_type": "markdown",
      "metadata": {
        "id": "YcFbJJO8rd6I"
      },
      "source": [
        "['***kitchen_temp***', 'living_temp', 'laundry_temp', '***office_temp***',\n",
        "      '***bath_temp***', 'outside_temp', '***ironing_temp***', 'teen_temp',\n",
        "       'parents_temp', 'kitchen_humid', 'living_humid', 'laundry_humid',\n",
        "       'office_humid', '***bath_humid***', '***outside_humid***', '***ironing_humid***',\n",
        "       'teen_humid', '***parents_humid***', 'station_temp', 'Tdewpoint',\n",
        "       'station_humid', '***Press_mm_hg***', '***Windspeed***', '***Visibility***'], \n",
        "     "
      ]
    },
    {
      "cell_type": "code",
      "metadata": {
        "id": "rLX1keQnrc0n"
      },
      "source": [
        "Dr=['living_temp', 'laundry_temp', 'outside_temp', 'teen_temp', 'parents_temp',\n",
        "'kitchen_humid', 'living_humid', 'laundry_humid', 'office_humid', 'teen_humid','station_temp', 'Tdewpoint', 'station_humid']"
      ],
      "execution_count": 162,
      "outputs": []
    },
    {
      "cell_type": "code",
      "metadata": {
        "id": "Rh6XsjlqtR5E"
      },
      "source": [
        "df_new=energy_df[Dr]"
      ],
      "execution_count": 165,
      "outputs": []
    },
    {
      "cell_type": "code",
      "metadata": {
        "colab": {
          "base_uri": "https://localhost:8080/"
        },
        "id": "SMuz-t3ypstU",
        "outputId": "c356a6fe-9ef6-455c-9efa-04c18fc324f1"
      },
      "source": [
        "df_new.columns"
      ],
      "execution_count": 166,
      "outputs": [
        {
          "output_type": "execute_result",
          "data": {
            "text/plain": [
              "Index(['living_temp', 'laundry_temp', 'outside_temp', 'teen_temp',\n",
              "       'parents_temp', 'kitchen_humid', 'living_humid', 'laundry_humid',\n",
              "       'office_humid', 'teen_humid', 'station_temp', 'Tdewpoint',\n",
              "       'station_humid'],\n",
              "      dtype='object')"
            ]
          },
          "metadata": {},
          "execution_count": 166
        }
      ]
    },
    {
      "cell_type": "code",
      "metadata": {
        "id": "2n28DSQXvLvW"
      },
      "source": [
        "X=df_new\n",
        "y=energy_df['Appliances']"
      ],
      "execution_count": 168,
      "outputs": []
    },
    {
      "cell_type": "code",
      "metadata": {
        "id": "f1swNGBCuFF3"
      },
      "source": [
        "X_train1, X_test1, y_train1, y_test1 = train_test_split(X, y, test_size=0.33)\n"
      ],
      "execution_count": 169,
      "outputs": []
    },
    {
      "cell_type": "code",
      "metadata": {
        "colab": {
          "base_uri": "https://localhost:8080/"
        },
        "id": "IEvw8rVku6y_",
        "outputId": "0da33b48-f3ee-4183-e200-6f7ba352314b"
      },
      "source": [
        "regressor1 = LinearRegression()\n",
        "regressor1.fit(X_train1, y_train1)"
      ],
      "execution_count": 173,
      "outputs": [
        {
          "output_type": "execute_result",
          "data": {
            "text/plain": [
              "LinearRegression()"
            ]
          },
          "metadata": {},
          "execution_count": 173
        }
      ]
    },
    {
      "cell_type": "code",
      "metadata": {
        "id": "bn_xzImzu7SN"
      },
      "source": [
        "y_pred1=regressor1.predict(X_test1)"
      ],
      "execution_count": 174,
      "outputs": []
    },
    {
      "cell_type": "code",
      "metadata": {
        "colab": {
          "base_uri": "https://localhost:8080/"
        },
        "id": "zrqTVreFu8Ip",
        "outputId": "8e9bece8-deb9-42b2-c15a-5da154f7e7de"
      },
      "source": [
        "r2_score(y_test1, y_pred1)"
      ],
      "execution_count": 175,
      "outputs": [
        {
          "output_type": "execute_result",
          "data": {
            "text/plain": [
              "0.14483761914218196"
            ]
          },
          "metadata": {},
          "execution_count": 175
        }
      ]
    },
    {
      "cell_type": "code",
      "metadata": {
        "colab": {
          "base_uri": "https://localhost:8080/"
        },
        "id": "zjkslzT1u82x",
        "outputId": "a21896b2-7156-4182-fadf-33c5b8451bba"
      },
      "source": [
        "from sklearn.metrics import mean_squared_error\n",
        "mean_squared_error(y_test1, y_pred1)"
      ],
      "execution_count": 180,
      "outputs": [
        {
          "output_type": "execute_result",
          "data": {
            "text/plain": [
              "9097.152694132346"
            ]
          },
          "metadata": {},
          "execution_count": 180
        }
      ]
    },
    {
      "cell_type": "markdown",
      "metadata": {
        "id": "0hvWQ-Y8xX0a"
      },
      "source": [
        "#95.3%"
      ]
    },
    {
      "cell_type": "code",
      "metadata": {
        "colab": {
          "base_uri": "https://localhost:8080/"
        },
        "id": "zoyWF_zZTX55",
        "outputId": "449db01c-3d3b-46da-d3e2-602d825973a8"
      },
      "source": [
        "from sklearn.linear_model import LinearRegression \n",
        "LinearRegression= LinearRegression()\n",
        "LinearRegression.fit(X_train, y_train)\n",
        "model_scores(LinearRegression,X_test,y_test)\n",
        "model_name.append('linearregression')\n"
      ],
      "execution_count": 128,
      "outputs": [
        {
          "output_type": "stream",
          "name": "stdout",
          "text": [
            "\n",
            "\n",
            "\n",
            "for LinearRegression()\n",
            "\n",
            "\n",
            "\n",
            "r2 score is 0.13475556547191114\n",
            "rmse score is 0.9155375720644787\n",
            "accuracy is 77.4595681802438 % \n",
            "\n",
            "\n",
            "\n"
          ]
        }
      ]
    },
    {
      "cell_type": "code",
      "metadata": {
        "colab": {
          "base_uri": "https://localhost:8080/"
        },
        "id": "LuTP0m5GkSlU",
        "outputId": "6da2ebdc-8822-4264-c1a8-83089f367cf2"
      },
      "source": [
        "from sklearn import linear_model\n",
        "lasso_reg = linear_model.Lasso(alpha=60, max_iter=100, tol=0.1)\n",
        "lasso_reg.fit(X_train, y_train)"
      ],
      "execution_count": 153,
      "outputs": [
        {
          "output_type": "execute_result",
          "data": {
            "text/plain": [
              "Lasso(alpha=60, max_iter=100, tol=0.1)"
            ]
          },
          "metadata": {},
          "execution_count": 153
        }
      ]
    },
    {
      "cell_type": "code",
      "metadata": {
        "colab": {
          "base_uri": "https://localhost:8080/"
        },
        "id": "otHf_fLJltGG",
        "outputId": "6c8a04fc-b8cf-4d7e-c146-60b3edce9e3e"
      },
      "source": [
        "lasso_reg.score(X_test, y_test)"
      ],
      "execution_count": 154,
      "outputs": [
        {
          "output_type": "execute_result",
          "data": {
            "text/plain": [
              "-3.0695963193494435e-05"
            ]
          },
          "metadata": {},
          "execution_count": 154
        }
      ]
    },
    {
      "cell_type": "code",
      "metadata": {
        "colab": {
          "base_uri": "https://localhost:8080/"
        },
        "id": "JU_gJQNXl2pO",
        "outputId": "784faec4-4a39-47ef-f3b8-89df4c2fc1a8"
      },
      "source": [
        "lasso_reg.score(X_train, y_train)"
      ],
      "execution_count": 155,
      "outputs": [
        {
          "output_type": "execute_result",
          "data": {
            "text/plain": [
              "0.0"
            ]
          },
          "metadata": {},
          "execution_count": 155
        }
      ]
    },
    {
      "cell_type": "code",
      "metadata": {
        "colab": {
          "base_uri": "https://localhost:8080/"
        },
        "id": "2AD17mb_fUDX",
        "outputId": "ffc927fb-cbf4-468f-f7a0-bcbfd5aad68c"
      },
      "source": [
        "from sklearn.linear_model import ElasticNet\n",
        "ElasticNet = ElasticNet()\n",
        "ElasticNet.fit(X_train,y_train)\n",
        "model_scores(ElasticNet,X_test,y_test)\n",
        "model_name.append('ElasticNet')"
      ],
      "execution_count": 141,
      "outputs": [
        {
          "output_type": "stream",
          "name": "stdout",
          "text": [
            "\n",
            "\n",
            "\n",
            "for ElasticNet()\n",
            "\n",
            "\n",
            "\n",
            "r2 score is -3.0695963193494435e-05\n",
            "rmse score is 0.9842681452923456\n",
            "accuracy is 146.4531820024321 % \n",
            "\n",
            "\n",
            "\n"
          ]
        }
      ]
    },
    {
      "cell_type": "markdown",
      "metadata": {
        "id": "nu6w7Znbd68u"
      },
      "source": [
        "#Lasso Regression"
      ]
    },
    {
      "cell_type": "code",
      "metadata": {
        "colab": {
          "base_uri": "https://localhost:8080/"
        },
        "id": "LgZjyKcId6c0",
        "outputId": "fd223716-9e0a-49f9-e8eb-6920fcac2429"
      },
      "source": [
        "lasso = Lasso()\n",
        "lasso.fit(X_train,y_train)\n",
        "model_scores(lasso,X_test,y_test)\n",
        "model_name.append('lasso')"
      ],
      "execution_count": 116,
      "outputs": [
        {
          "output_type": "stream",
          "name": "stdout",
          "text": [
            "\n",
            "\n",
            "\n",
            "for Lasso()\n",
            "\n",
            "\n",
            "\n",
            "r2 score is -3.0695963193494435e-05\n",
            "rmse score is 0.9842681452923456\n",
            "accuracy is 146.4531820024321 % \n",
            "\n",
            "\n",
            "\n"
          ]
        }
      ]
    },
    {
      "cell_type": "markdown",
      "metadata": {
        "id": "Zf_Ln3n5TNwD"
      },
      "source": [
        "#ExtraTreeRegressor\n"
      ]
    },
    {
      "cell_type": "code",
      "metadata": {
        "colab": {
          "base_uri": "https://localhost:8080/"
        },
        "id": "0eXIITNe_Gzv",
        "outputId": "4849a2d7-b566-460c-e2f0-d380fc366672"
      },
      "source": [
        "#from sklearn.ensemble import RandomForestRegressor, GradientBoostingRegressor, ExtraTreesRegressor\n",
        "ExtraTreesRegressor= ExtraTreesRegressor()\n",
        "ExtraTreesRegressor.fit(X_train, y_train)\n",
        "model_scores(ExtraTreesRegressor,X_test,y_test)\n",
        "model_name.append('ExtraTreesRegressor')"
      ],
      "execution_count": 67,
      "outputs": [
        {
          "output_type": "stream",
          "name": "stdout",
          "text": [
            "\n",
            "\n",
            "\n",
            "for ExtraTreesRegressor()\n",
            "\n",
            "\n",
            "\n",
            "r2 score is 0.6476880746453901\n",
            "rmse score is 0.5842119502274558\n",
            "accuracy is 52.85790533205948 % \n",
            "\n",
            "\n",
            "\n"
          ]
        }
      ]
    },
    {
      "cell_type": "markdown",
      "metadata": {
        "id": "kQPt7KkSyxHQ"
      },
      "source": [
        "#SVM"
      ]
    },
    {
      "cell_type": "code",
      "metadata": {
        "colab": {
          "base_uri": "https://localhost:8080/"
        },
        "id": "q6iW7lgm2LYK",
        "outputId": "bb58c7e8-2687-40dd-b796-1db2b37dc792"
      },
      "source": [
        "svr = SVR(kernel='rbf')\n",
        "svr.fit(X_train, y_train)\n",
        "model_scores(svr,X_test,y_test)\n",
        "model_name.append('svr')"
      ],
      "execution_count": 56,
      "outputs": [
        {
          "output_type": "stream",
          "name": "stdout",
          "text": [
            "\n",
            "\n",
            "\n",
            "for SVR()\n",
            "\n",
            "\n",
            "\n",
            "r2 score is 0.21397343302337823\n",
            "rmse score is 0.8726204307916837\n",
            "accuracy is 68.75301454785385 % \n",
            "\n",
            "\n",
            "\n"
          ]
        }
      ]
    },
    {
      "cell_type": "markdown",
      "metadata": {
        "id": "RWnsq8-2zGuz"
      },
      "source": [
        "#Random Forest"
      ]
    },
    {
      "cell_type": "code",
      "metadata": {
        "colab": {
          "base_uri": "https://localhost:8080/"
        },
        "id": "029Lc-g9zFiy",
        "outputId": "0e26f8dc-68fa-458b-ebd8-a8e2a2ab5935"
      },
      "source": [
        "random_forest = RandomForestRegressor()\n",
        "random_forest.fit(X_train, y_train)\n",
        "model_scores(random_forest,X_test,y_test)\n",
        "model_name.append('random_forest')"
      ],
      "execution_count": 57,
      "outputs": [
        {
          "output_type": "stream",
          "name": "stdout",
          "text": [
            "\n",
            "\n",
            "\n",
            "for RandomForestRegressor()\n",
            "\n",
            "\n",
            "\n",
            "r2 score is 0.5882924275514102\n",
            "rmse score is 0.6315404786442251\n",
            "accuracy is 52.16100962505234 % \n",
            "\n",
            "\n",
            "\n"
          ]
        }
      ]
    },
    {
      "cell_type": "code",
      "metadata": {
        "id": "QLdgjK3c-eO9"
      },
      "source": [
        ""
      ],
      "execution_count": null,
      "outputs": []
    },
    {
      "cell_type": "code",
      "metadata": {
        "colab": {
          "base_uri": "https://localhost:8080/",
          "height": 172
        },
        "id": "UQzWcLvB4g3l",
        "outputId": "3c00184d-d817-46c1-ce6e-6f45974c3310"
      },
      "source": [
        "#CONVERTING EVALUATION METRICES TO DATAFRAME\n",
        "eval = pd.DataFrame({'model_name' :model_name,\n",
        "                                'accuracy' : accuracy,\n",
        "                                'r2_val' : r2_val , \n",
        "                                'rmse_val' : rmse_val})\n",
        "eval"
      ],
      "execution_count": 68,
      "outputs": [
        {
          "output_type": "execute_result",
          "data": {
            "text/html": [
              "<div>\n",
              "<style scoped>\n",
              "    .dataframe tbody tr th:only-of-type {\n",
              "        vertical-align: middle;\n",
              "    }\n",
              "\n",
              "    .dataframe tbody tr th {\n",
              "        vertical-align: top;\n",
              "    }\n",
              "\n",
              "    .dataframe thead th {\n",
              "        text-align: right;\n",
              "    }\n",
              "</style>\n",
              "<table border=\"1\" class=\"dataframe\">\n",
              "  <thead>\n",
              "    <tr style=\"text-align: right;\">\n",
              "      <th></th>\n",
              "      <th>model_name</th>\n",
              "      <th>accuracy</th>\n",
              "      <th>r2_val</th>\n",
              "      <th>rmse_val</th>\n",
              "    </tr>\n",
              "  </thead>\n",
              "  <tbody>\n",
              "    <tr>\n",
              "      <th>0</th>\n",
              "      <td>xgb</td>\n",
              "      <td>87.980488</td>\n",
              "      <td>0.242367</td>\n",
              "      <td>0.856715</td>\n",
              "    </tr>\n",
              "    <tr>\n",
              "      <th>1</th>\n",
              "      <td>svr</td>\n",
              "      <td>68.753015</td>\n",
              "      <td>0.213973</td>\n",
              "      <td>0.872620</td>\n",
              "    </tr>\n",
              "    <tr>\n",
              "      <th>2</th>\n",
              "      <td>random_forest</td>\n",
              "      <td>52.161010</td>\n",
              "      <td>0.588292</td>\n",
              "      <td>0.631540</td>\n",
              "    </tr>\n",
              "    <tr>\n",
              "      <th>3</th>\n",
              "      <td>ExtraTreesRegressor</td>\n",
              "      <td>52.857905</td>\n",
              "      <td>0.647688</td>\n",
              "      <td>0.584212</td>\n",
              "    </tr>\n",
              "  </tbody>\n",
              "</table>\n",
              "</div>"
            ],
            "text/plain": [
              "            model_name   accuracy    r2_val  rmse_val\n",
              "0                  xgb  87.980488  0.242367  0.856715\n",
              "1                  svr  68.753015  0.213973  0.872620\n",
              "2        random_forest  52.161010  0.588292  0.631540\n",
              "3  ExtraTreesRegressor  52.857905  0.647688  0.584212"
            ]
          },
          "metadata": {},
          "execution_count": 68
        }
      ]
    },
    {
      "cell_type": "code",
      "metadata": {
        "colab": {
          "base_uri": "https://localhost:8080/",
          "height": 622
        },
        "id": "kzKz4XwF3Q21",
        "outputId": "930830bb-3486-4459-d081-27e98157aa3f"
      },
      "source": [
        "#PLOTTING R2 SCORES, RMSE AND ACCURACIES\n",
        "fig,ax=plt.subplots(1,3, figsize=(15,8))\n",
        "eval.plot(x='model_name', y='r2_val', kind=\"bar\" , title = 'R2 Scores' ,ax=ax[0],color='red')\n",
        "eval.plot(x='model_name', y='rmse_val', kind=\"bar\" , title = 'Rmse Scores' ,ax=ax[1],color='cyan')\n",
        "eval.plot(x='model_name', y='accuracy', kind=\"bar\" , title = 'accuracy' ,ax=ax[2],color='orange')"
      ],
      "execution_count": 69,
      "outputs": [
        {
          "output_type": "execute_result",
          "data": {
            "text/plain": [
              "<matplotlib.axes._subplots.AxesSubplot at 0x7fc989abcf10>"
            ]
          },
          "metadata": {},
          "execution_count": 69
        },
        {
          "output_type": "display_data",
          "data": {
            "image/png": "[encoded data removed]",
            "text/plain": [
              "<Figure size 1080x576 with 3 Axes>"
            ]
          },
          "metadata": {
            "needs_background": "light"
          }
        }
      ]
    },
    {
      "cell_type": "code",
      "metadata": {
        "id": "-1Q5yPDW7YH1"
      },
      "source": [
        ""
      ],
      "execution_count": null,
      "outputs": []
    }
  ]
}